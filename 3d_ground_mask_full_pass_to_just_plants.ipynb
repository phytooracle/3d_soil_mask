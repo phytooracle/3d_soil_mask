{
 "cells": [
  {
   "cell_type": "code",
   "execution_count": 1,
   "metadata": {},
   "outputs": [],
   "source": [
    "import numpy as np\n",
    "from mpl_toolkits import mplot3d\n",
    "import open3d as o3d\n",
    "import glob\n",
    "import os\n",
    "import os.path\n",
    "import statistics as stats"
   ]
  },
  {
   "cell_type": "code",
   "execution_count": 2,
   "metadata": {},
   "outputs": [],
   "source": [
    "# Variables:\n",
    "\n",
    "slice_size = .02\n",
    "clustering_eps = 6\n",
    "min_points = 200\n",
    "percent_ground_cutoff = .97\n",
    "\n",
    "#Flags\n",
    "#write out slice, ground, or just final plant"
   ]
  },
  {
   "cell_type": "code",
   "execution_count": 19,
   "metadata": {},
   "outputs": [
    {
     "name": "stdout",
     "output_type": "stream",
     "text": [
      "max = -3464.1064453125\n",
      "min = -25659.125\n",
      "Middle = -14561.61572265625\n",
      "Yrange = -443.90037109375\n",
      "[Open3D DEBUG] Precompute Neighbours\n",
      "[Open3D DEBUG] Done Precompute Neighbours\n",
      "[Open3D DEBUG] Compute Clusters\n",
      "[Open3D DEBUG] Done Compute Clusters: 90\n",
      "point cloud has 90 clusters\n"
     ]
    },
    {
     "data": {
      "text/plain": [
       "True"
      ]
     },
     "execution_count": 19,
     "metadata": {},
     "output_type": "execute_result"
    }
   ],
   "source": [
    "# Full Pass\n",
    "plant = r\"C:\\Users\\Travis\\OneDrive - College of Coastal Georgia\\work\\3D vis\\3D_ply_files_small\\3D_ply_files_small\\c105084f-77c2-4d84-9514-20d0b1e28b95__Top-heading-east_0.ply\"\n",
    "\n",
    "# ------------------------------------------------------\n",
    "# Slicing out a portion\n",
    "\n",
    "# Read .ply file\n",
    "pcd_whole = o3d.io.read_point_cloud(plant)\n",
    "\n",
    "# Convert open3d format to numpy array\n",
    "# Here, you have the point cloud in numpy format. \n",
    "ar_whole_field = np.asarray(pcd_whole.points)\n",
    "\n",
    "# Slicing\n",
    "max_1 = max(ar_whole_field[:,1])\n",
    "min_1 = min(ar_whole_field[:,1])\n",
    "\n",
    "length = [max_1,min_1]\n",
    "yrange = (abs(max_1)-abs(min_1))*.02\n",
    "middle = stats.median(length)\n",
    "bound_1 = middle + yrange\n",
    "bound_2 = middle - yrange\n",
    "\n",
    "print(f'max = {max_1}\\nmin = {min_1}\\nMiddle = {middle}\\nYrange = {yrange}')\n",
    "slice_of_whole = []\n",
    "\n",
    "for index, row in enumerate(ar_whole_field):\n",
    "    if bound_1 > bound_2:\n",
    "        if bound_1 > row[1] >  bound_2:\n",
    "            slice_of_whole.append(row)\n",
    "\n",
    "    if bound_2 > bound_1:\n",
    "        if bound_2 > row[1] >  bound_1:\n",
    "            slice_of_whole.append(row)\n",
    "            \n",
    "            \n",
    "pcd_slice = o3d.geometry.PointCloud()\n",
    "pcd_slice.points = o3d.utility.Vector3dVector(slice_of_whole)\n",
    "\n",
    "ar_slice = np.asarray(pcd_slice.points)\n",
    "\n",
    "o3d.io.write_point_cloud(f\"C:\\\\Users\\\\Travis\\\\OneDrive - College of Coastal Georgia\\\\work\\\\Untitled Folder\\\\slice.ply\", pcd_slice)\n",
    "\n",
    "#------------------------------------------------\n",
    "# Sending the slice to be clustered\n",
    "\n",
    "# Clustering\n",
    "with o3d.utility.VerbosityContextManager(\n",
    "        o3d.utility.VerbosityLevel.Debug) as cm:\n",
    "    labels = np.array(pcd_slice.cluster_dbscan(eps=6, min_points=200, print_progress=True))\n",
    "\n",
    "max_label = labels.max()\n",
    "print(f\"point cloud has {max_label + 1} clusters\")\n",
    "\n",
    "l0 = []\n",
    "\n",
    "# Separating out the labels\n",
    "for index, row in enumerate(ar_slice):\n",
    "    lab = labels[index]\n",
    "    if lab == 0:\n",
    "        l0.append(row)\n",
    "\n",
    "#---------------------------------\n",
    "# Getting the extent of the ground to crop out the plants\n",
    "\n",
    "pcd_ground = o3d.geometry.PointCloud()\n",
    "pcd_ground.points = o3d.utility.Vector3dVector(l0)\n",
    "ar_ground = np.asarray(pcd_ground.points) \n",
    "# Extents for cropping\n",
    "max_0 = max(ar_ground[:,0])\n",
    "max_2 = max(ar_ground[:,2])\n",
    "min_0 = min(ar_ground[:,0])\n",
    "\n",
    "o3d.io.write_point_cloud(f\"C:\\\\Users\\\\Travis\\\\OneDrive - College of Coastal Georgia\\\\work\\\\Untitled Folder\\\\ground.ply\", pcd_ground)\n",
    "\n",
    "\n",
    "#-----------------------------------------------------\n",
    "# Cropping out the plants\n",
    "plant = []\n",
    "for i in ar_whole:\n",
    "    if (min_0 < i[0] < max_0) and (i[2] > (max_2*.97)):\n",
    "        plant.append(i)\n",
    "pcd_plant = o3d.geometry.PointCloud()\n",
    "pcd_plant.points = o3d.utility.Vector3dVector(plant)\n",
    "\n",
    "o3d.io.write_point_cloud(f\"C:\\\\Users\\\\Travis\\\\OneDrive - College of Coastal Georgia\\\\work\\\\Untitled Folder\\\\plants.ply\", pcd_plant)\n",
    "\n"
   ]
  },
  {
   "cell_type": "code",
   "execution_count": null,
   "metadata": {},
   "outputs": [],
   "source": []
  }
 ],
 "metadata": {
  "kernelspec": {
   "display_name": "Python 3",
   "language": "python",
   "name": "python3"
  },
  "language_info": {
   "codemirror_mode": {
    "name": "ipython",
    "version": 3
   },
   "file_extension": ".py",
   "mimetype": "text/x-python",
   "name": "python",
   "nbconvert_exporter": "python",
   "pygments_lexer": "ipython3",
   "version": "3.8.3"
  }
 },
 "nbformat": 4,
 "nbformat_minor": 4
}
